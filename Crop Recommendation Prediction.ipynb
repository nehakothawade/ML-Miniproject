{
 "cells": [
  {
   "cell_type": "code",
   "execution_count": null,
   "id": "af847680",
   "metadata": {
    "scrolled": false
   },
   "outputs": [],
   "source": [
    "#Importing Libraries\n",
    "import numpy as np\n",
    "import pandas as pd\n",
    "import matplotlib.pyplot as plt\n",
    "import seaborn as sns\n",
    "from sklearn.metrics import accuracy_score\n",
    "from sklearn.metrics import classification_report\n"
   ]
  },
  {
   "cell_type": "code",
   "execution_count": null,
   "id": "4ed70d93",
   "metadata": {},
   "outputs": [],
   "source": [
    "#Importing and reading Dataset\n",
    "df=pd.read_csv(\"Crop_recommendation.csv\")"
   ]
  },
  {
   "cell_type": "code",
   "execution_count": null,
   "id": "3e408aee",
   "metadata": {},
   "outputs": [],
   "source": [
    "#Reading data from Dataset\n",
    "print(\"Top rows from Data are:\\n\",df.head(5),\"\\n\")\n",
    "print(\"Last rows from Data are:\\n\",df.tail(5),\"\\n\")"
   ]
  },
  {
   "cell_type": "code",
   "execution_count": null,
   "id": "ea20a2d4",
   "metadata": {},
   "outputs": [],
   "source": [
    "#Data Visualisation\n",
    "h=df[\"ph\"]\n",
    "plt.title(\"Histogram for pH of Soil\")\n",
    "plt.xlabel(\"pH of Soil\")\n",
    "plt.hist(h, 10)"
   ]
  },
  {
   "cell_type": "code",
   "execution_count": null,
   "id": "2e424792",
   "metadata": {},
   "outputs": [],
   "source": [
    "#checking for null values\n",
    "print(\"No. of null values in Data are:\\n\",df.isnull().sum(),\"\\n\")"
   ]
  },
  {
   "cell_type": "code",
   "execution_count": null,
   "id": "424a3de8",
   "metadata": {},
   "outputs": [],
   "source": [
    "#Column Separation\n",
    "x=df.drop(\"label\", axis=1)\n",
    "y=df[\"label\"]\n",
    "print(\"Data without Target set is:\\n\",x,\"\\n\")\n",
    "print(\"Target Set is:\\n\",y,\"\\n\")"
   ]
  },
  {
   "cell_type": "code",
   "execution_count": null,
   "id": "1b6e87f2",
   "metadata": {},
   "outputs": [],
   "source": [
    "#creating list for comparsion of model accuracy and corresponding model name\n",
    "acc=[]\n",
    "model=[]"
   ]
  },
  {
   "cell_type": "code",
   "execution_count": null,
   "id": "216d031f",
   "metadata": {},
   "outputs": [],
   "source": [
    "#Divide Data into Train and Test\n",
    "from sklearn.model_selection import train_test_split\n",
    "\n",
    "x_train, x_test, y_train, y_test = train_test_split(x, y,test_size=0.2, random_state=150)\n",
    "\n",
    "from sklearn.preprocessing import StandardScaler\n",
    "sc = StandardScaler()\n",
    "x_train = sc.fit_transform(x_train)\n",
    "x_test = sc.transform(x_test)\n"
   ]
  },
  {
   "cell_type": "code",
   "execution_count": null,
   "id": "e0e8702e",
   "metadata": {},
   "outputs": [],
   "source": [
    "#Logistic Regression\n",
    "#Train the Model\n",
    "from sklearn.linear_model import LogisticRegression\n",
    "LogReg=LogisticRegression()\n",
    "result1=LogReg.fit(x_train,y_train)\n",
    "\n",
    "#Test the Model\n",
    "predictions=result1.predict(x_test)\n",
    "\n",
    "x=accuracy_score(y_test, predictions)\n",
    "acc.append(x)\n",
    "model.append(\"Logistic Regression\")\n",
    "print(\"Logistic Regression's Accuracy is \",x)\n",
    "print(\"Classification Report is \\n\",classification_report(y_test, predictions))"
   ]
  },
  {
   "cell_type": "code",
   "execution_count": null,
   "id": "a4cfa2f4",
   "metadata": {},
   "outputs": [],
   "source": [
    "#Decision Tree Classifier\n",
    "#Train the Model\n",
    "from sklearn.tree import DecisionTreeClassifier\n",
    "DecTree=DecisionTreeClassifier(random_state=123)\n",
    "result2=DecTree.fit(x_train,y_train)\n",
    "\n",
    "#Test the Model\n",
    "predictions=result2.predict(x_test)\n",
    "\n",
    "x=accuracy_score(y_test, predictions)\n",
    "acc.append(x)\n",
    "model.append(\"Decision Tree\")\n",
    "print(\"Decision Tree Classifier's Accuracy is \",x)\n",
    "print(\"Classification Report is \\n\",classification_report(y_test, predictions))"
   ]
  },
  {
   "cell_type": "code",
   "execution_count": null,
   "id": "4043a8ce",
   "metadata": {},
   "outputs": [],
   "source": [
    "#Random Tree Classifier\n",
    "#Train the Model\n",
    "from sklearn.ensemble import RandomForestClassifier\n",
    "RanTree=RandomForestClassifier(n_estimators = 5, criterion = 'entropy', random_state = 123)\n",
    "result3=RanTree.fit(x_train,y_train)\n",
    "\n",
    "#Test the Model\n",
    "predictions=result3.predict(x_test)\n",
    "\n",
    "x=accuracy_score(y_test, predictions)\n",
    "acc.append(x)\n",
    "model.append(\"Random Tree\")\n",
    "print(\"Random Tree Classifier's Accuracy is \",x)\n",
    "print(\"Classification Report is \\n\",classification_report(y_test, predictions))"
   ]
  },
  {
   "cell_type": "code",
   "execution_count": null,
   "id": "39b00cd3",
   "metadata": {},
   "outputs": [],
   "source": [
    "#Support Vector machine\n",
    "#Train the Model\n",
    "from sklearn.svm import SVC\n",
    "SVM=SVC(kernel='rbf', random_state=0)\n",
    "result4=SVM.fit(x_train,y_train)\n",
    "\n",
    "#Test the Model\n",
    "predictions=result4.predict(x_test)\n",
    "\n",
    "x=accuracy_score(y_test, predictions)\n",
    "acc.append(x)\n",
    "model.append(\"SVM\")\n",
    "print(\"SVM's Accuracy is \",x)\n",
    "print(\"Classification Report is \\n\",classification_report(y_test, predictions))"
   ]
  },
  {
   "cell_type": "code",
   "execution_count": null,
   "id": "0ce66f21",
   "metadata": {},
   "outputs": [],
   "source": [
    "#KNN \n",
    "#Train the Model\n",
    "from sklearn.neighbors import KNeighborsClassifier\n",
    "KNN=KNeighborsClassifier(n_neighbors=50)\n",
    "result5=KNN.fit(x_train,y_train)\n",
    "\n",
    "#Test the Model\n",
    "predictions=result5.predict(x_test)\n",
    "\n",
    "x=accuracy_score(y_test, predictions)\n",
    "acc.append(x)\n",
    "model.append(\"KNN\")\n",
    "print(\"KNN's Accuracy is \",x)\n",
    "print(\"Classification Report is \\n\",classification_report(y_test, predictions))"
   ]
  },
  {
   "cell_type": "code",
   "execution_count": null,
   "id": "6678125f",
   "metadata": {},
   "outputs": [],
   "source": [
    "#Accuracy comparision for different Algorithms\n",
    "plt.title(\"Bar chart\")\n",
    "plt.xlabel(\"Accuracy\")\n",
    "plt.ylabel(\"Algorithm\")\n",
    "sns.barplot(x=acc, y=model)\n",
    "plt.show()"
   ]
  },
  {
   "cell_type": "code",
   "execution_count": null,
   "id": "cf8f904e",
   "metadata": {},
   "outputs": [],
   "source": [
    "#making a Predictions\n",
    "new_pred=result3.predict([[0,5,36,24,90,6,105]])\n",
    "print(\"Recommended Crop is \",new_pred)"
   ]
  },
  {
   "cell_type": "code",
   "execution_count": null,
   "id": "53cb89e7",
   "metadata": {},
   "outputs": [],
   "source": [
    "#making a Predictions\n",
    "new_pred=result3.predict([[51,57,55,24,90,6,108]])\n",
    "print(\"Recommended Crop is \",new_pred)"
   ]
  },
  {
   "cell_type": "code",
   "execution_count": null,
   "id": "98abb1b6",
   "metadata": {},
   "outputs": [],
   "source": []
  }
 ],
 "metadata": {
  "kernelspec": {
   "display_name": "Python 3",
   "language": "python",
   "name": "python3"
  },
  "language_info": {
   "codemirror_mode": {
    "name": "ipython",
    "version": 3
   },
   "file_extension": ".py",
   "mimetype": "text/x-python",
   "name": "python",
   "nbconvert_exporter": "python",
   "pygments_lexer": "ipython3",
   "version": "3.8.8"
  }
 },
 "nbformat": 4,
 "nbformat_minor": 5
}
